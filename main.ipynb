{
 "cells": [
  {
   "cell_type": "code",
   "execution_count": 1,
   "metadata": {},
   "outputs": [],
   "source": [
    "from datamanager import Tracker\n",
    "from product import Product\n",
    "\n",
    "product_urls = []\n",
    "with open('products.txt', 'r') as f:\n",
    "    product_urls = f.read().splitlines()\n",
    "\n",
    "tracker = Tracker()"
   ]
  },
  {
   "cell_type": "code",
   "execution_count": 2,
   "metadata": {},
   "outputs": [
    {
     "data": {
      "text/plain": [
       "['https://amzn.eu/d/efLqs1d',\n",
       " 'https://amzn.eu/d/hsiQlXL',\n",
       " 'https://amzn.eu/d/gr6z2y8']"
      ]
     },
     "execution_count": 2,
     "metadata": {},
     "output_type": "execute_result"
    }
   ],
   "source": [
    "product_urls"
   ]
  },
  {
   "cell_type": "code",
   "execution_count": 3,
   "metadata": {},
   "outputs": [],
   "source": [
    "products = []\n",
    "for p in product_urls:\n",
    "    products.append(Product(p))"
   ]
  },
  {
   "cell_type": "code",
   "execution_count": 4,
   "metadata": {},
   "outputs": [],
   "source": [
    "for p in products:\n",
    "    tracker.add_product(product=p, updatemode=1)"
   ]
  },
  {
   "cell_type": "code",
   "execution_count": 5,
   "metadata": {},
   "outputs": [
    {
     "data": {
      "text/html": [
       "<div>\n",
       "<style scoped>\n",
       "    .dataframe tbody tr th:only-of-type {\n",
       "        vertical-align: middle;\n",
       "    }\n",
       "\n",
       "    .dataframe tbody tr th {\n",
       "        vertical-align: top;\n",
       "    }\n",
       "\n",
       "    .dataframe thead th {\n",
       "        text-align: right;\n",
       "    }\n",
       "</style>\n",
       "<table border=\"1\" class=\"dataframe\">\n",
       "  <thead>\n",
       "    <tr style=\"text-align: right;\">\n",
       "      <th></th>\n",
       "      <th>name</th>\n",
       "      <th>url</th>\n",
       "      <th>price</th>\n",
       "      <th>date</th>\n",
       "      <th>time</th>\n",
       "      <th>rating</th>\n",
       "    </tr>\n",
       "  </thead>\n",
       "  <tbody>\n",
       "    <tr>\n",
       "      <th>0</th>\n",
       "      <td>Ambrane 10000mAh Slim Power Bank, 20W Fast Cha...</td>\n",
       "      <td>https://amzn.eu/d/hsiQlXL</td>\n",
       "      <td>999</td>\n",
       "      <td>14-12-2022</td>\n",
       "      <td>08:33:42 PM</td>\n",
       "      <td>4.0 out of 5 stars</td>\n",
       "    </tr>\n",
       "    <tr>\n",
       "      <th>1</th>\n",
       "      <td>boAt Stone 170 with 5W Speaker Bluetooth V4.2 ...</td>\n",
       "      <td>https://amzn.eu/d/gr6z2y8</td>\n",
       "      <td>1199</td>\n",
       "      <td>14-12-2022</td>\n",
       "      <td>08:33:46 PM</td>\n",
       "      <td>4.3 out of 5 stars</td>\n",
       "    </tr>\n",
       "    <tr>\n",
       "      <th>2</th>\n",
       "      <td>SanDisk Ultra® microSDXC™ UHS-I Card, 64GB, 14...</td>\n",
       "      <td>https://amzn.eu/d/efLqs1d</td>\n",
       "      <td>539</td>\n",
       "      <td>14-12-2022</td>\n",
       "      <td>08:33:37 PM</td>\n",
       "      <td>4.4 out of 5 stars</td>\n",
       "    </tr>\n",
       "  </tbody>\n",
       "</table>\n",
       "</div>"
      ],
      "text/plain": [
       "                                                name  \\\n",
       "0  Ambrane 10000mAh Slim Power Bank, 20W Fast Cha...   \n",
       "1  boAt Stone 170 with 5W Speaker Bluetooth V4.2 ...   \n",
       "2  SanDisk Ultra® microSDXC™ UHS-I Card, 64GB, 14...   \n",
       "\n",
       "                         url price        date         time  \\\n",
       "0  https://amzn.eu/d/hsiQlXL   999  14-12-2022  08:33:42 PM   \n",
       "1  https://amzn.eu/d/gr6z2y8  1199  14-12-2022  08:33:46 PM   \n",
       "2  https://amzn.eu/d/efLqs1d   539  14-12-2022  08:33:37 PM   \n",
       "\n",
       "               rating  \n",
       "0  4.0 out of 5 stars  \n",
       "1  4.3 out of 5 stars  \n",
       "2  4.4 out of 5 stars  "
      ]
     },
     "execution_count": 5,
     "metadata": {},
     "output_type": "execute_result"
    }
   ],
   "source": [
    "tracker.csv_data"
   ]
  },
  {
   "cell_type": "code",
   "execution_count": 6,
   "metadata": {},
   "outputs": [
    {
     "data": {
      "text/plain": [
       "'deleted specified data'"
      ]
     },
     "execution_count": 6,
     "metadata": {},
     "output_type": "execute_result"
    }
   ],
   "source": [
    "tracker.delete_product(urls=['https://amzn.eu/d/efLqs1d'])"
   ]
  },
  {
   "cell_type": "code",
   "execution_count": 7,
   "metadata": {},
   "outputs": [
    {
     "data": {
      "text/plain": [
       "'All data up-to-date'"
      ]
     },
     "execution_count": 7,
     "metadata": {},
     "output_type": "execute_result"
    }
   ],
   "source": [
    "tracker.update_all()"
   ]
  },
  {
   "cell_type": "code",
   "execution_count": null,
   "metadata": {},
   "outputs": [],
   "source": [
    "# tracker.delete_all()"
   ]
  }
 ],
 "metadata": {
  "kernelspec": {
   "display_name": "venv",
   "language": "python",
   "name": "python3"
  },
  "language_info": {
   "codemirror_mode": {
    "name": "ipython",
    "version": 3
   },
   "file_extension": ".py",
   "mimetype": "text/x-python",
   "name": "python",
   "nbconvert_exporter": "python",
   "pygments_lexer": "ipython3",
   "version": "3.10.7"
  },
  "orig_nbformat": 4,
  "vscode": {
   "interpreter": {
    "hash": "5c8a53cb1117adeb75f2446175e8d99adb9766ffcc7161a717a3686e9a21f88d"
   }
  }
 },
 "nbformat": 4,
 "nbformat_minor": 2
}
