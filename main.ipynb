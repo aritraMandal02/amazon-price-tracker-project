{
 "cells": [
  {
   "cell_type": "code",
   "execution_count": 1,
   "metadata": {},
   "outputs": [],
   "source": [
    "from datamanager import Tracker\n",
    "from product import Product\n",
    "import concurrent.futures as cf\n",
    "\n",
    "product_urls = []\n",
    "with open('products.txt', 'r') as f:\n",
    "    product_urls = f.read().splitlines()\n",
    "\n",
    "tracker = Tracker()"
   ]
  },
  {
   "cell_type": "code",
   "execution_count": 2,
   "metadata": {},
   "outputs": [
    {
     "data": {
      "text/plain": [
       "['https://amzn.eu/d/efLqs1d',\n",
       " 'https://amzn.eu/d/hsiQlXL',\n",
       " 'https://amzn.eu/d/gr6z2y8',\n",
       " 'https://amzn.eu/d/hB6YGx6',\n",
       " 'https://amzn.eu/d/c6B3QjO',\n",
       " 'https://amzn.eu/d/ioDYTiC']"
      ]
     },
     "execution_count": 2,
     "metadata": {},
     "output_type": "execute_result"
    }
   ],
   "source": [
    "product_urls"
   ]
  },
  {
   "cell_type": "code",
   "execution_count": 3,
   "metadata": {},
   "outputs": [],
   "source": [
    "products = []\n",
    "with cf.ThreadPoolExecutor() as executor:\n",
    "    products = executor.map(Product, product_urls)"
   ]
  },
  {
   "cell_type": "code",
   "execution_count": 4,
   "metadata": {},
   "outputs": [],
   "source": [
    "for p in products:\n",
    "    tracker.add_product(product=p, updatemode=1)"
   ]
  },
  {
   "cell_type": "code",
   "execution_count": 5,
   "metadata": {},
   "outputs": [
    {
     "data": {
      "text/html": [
       "<div>\n",
       "<style scoped>\n",
       "    .dataframe tbody tr th:only-of-type {\n",
       "        vertical-align: middle;\n",
       "    }\n",
       "\n",
       "    .dataframe tbody tr th {\n",
       "        vertical-align: top;\n",
       "    }\n",
       "\n",
       "    .dataframe thead th {\n",
       "        text-align: right;\n",
       "    }\n",
       "</style>\n",
       "<table border=\"1\" class=\"dataframe\">\n",
       "  <thead>\n",
       "    <tr style=\"text-align: right;\">\n",
       "      <th></th>\n",
       "      <th>name</th>\n",
       "      <th>url</th>\n",
       "      <th>price</th>\n",
       "      <th>date</th>\n",
       "      <th>time</th>\n",
       "      <th>rating</th>\n",
       "    </tr>\n",
       "  </thead>\n",
       "  <tbody>\n",
       "    <tr>\n",
       "      <th>0</th>\n",
       "      <td>Ambrane 10000mAh Slim Power Bank, 20W Fast Cha...</td>\n",
       "      <td>https://amzn.eu/d/hsiQlXL</td>\n",
       "      <td>999</td>\n",
       "      <td>08-01-2023</td>\n",
       "      <td>06:42:57 PM</td>\n",
       "      <td>4.0 out of 5 stars</td>\n",
       "    </tr>\n",
       "    <tr>\n",
       "      <th>1</th>\n",
       "      <td>boAt Stone 170 with 5W Speaker Bluetooth V4.2 ...</td>\n",
       "      <td>https://amzn.eu/d/gr6z2y8</td>\n",
       "      <td>1299</td>\n",
       "      <td>08-01-2023</td>\n",
       "      <td>06:42:56 PM</td>\n",
       "      <td>4.3 out of 5 stars</td>\n",
       "    </tr>\n",
       "    <tr>\n",
       "      <th>2</th>\n",
       "      <td>boAt Wave Call Smart Watch, Smart Talk with Ad...</td>\n",
       "      <td>https://amzn.eu/d/hB6YGx6</td>\n",
       "      <td>1999</td>\n",
       "      <td>08-01-2023</td>\n",
       "      <td>06:42:56 PM</td>\n",
       "      <td>3.8 out of 5 stars</td>\n",
       "    </tr>\n",
       "    <tr>\n",
       "      <th>3</th>\n",
       "      <td>boAt Xtend Smartwatch with Alexa Built-in, 1.6...</td>\n",
       "      <td>https://amzn.eu/d/c6B3QjO</td>\n",
       "      <td>2299</td>\n",
       "      <td>08-01-2023</td>\n",
       "      <td>06:42:57 PM</td>\n",
       "      <td>4.2 out of 5 stars</td>\n",
       "    </tr>\n",
       "    <tr>\n",
       "      <th>4</th>\n",
       "      <td>SanDisk Ultra® microSDXC™ UHS-I Card, 64GB, 14...</td>\n",
       "      <td>https://amzn.eu/d/efLqs1d</td>\n",
       "      <td>612</td>\n",
       "      <td>08-01-2023</td>\n",
       "      <td>06:42:56 PM</td>\n",
       "      <td>4.4 out of 5 stars</td>\n",
       "    </tr>\n",
       "    <tr>\n",
       "      <th>5</th>\n",
       "      <td>ASIAN F-04 Running Shoes,Gym Shoes,Training Sh...</td>\n",
       "      <td>https://amzn.eu/d/ioDYTiC</td>\n",
       "      <td>524</td>\n",
       "      <td>08-01-2023</td>\n",
       "      <td>06:42:57 PM</td>\n",
       "      <td>4.0 out of 5 stars</td>\n",
       "    </tr>\n",
       "  </tbody>\n",
       "</table>\n",
       "</div>"
      ],
      "text/plain": [
       "                                                name  \\\n",
       "0  Ambrane 10000mAh Slim Power Bank, 20W Fast Cha...   \n",
       "1  boAt Stone 170 with 5W Speaker Bluetooth V4.2 ...   \n",
       "2  boAt Wave Call Smart Watch, Smart Talk with Ad...   \n",
       "3  boAt Xtend Smartwatch with Alexa Built-in, 1.6...   \n",
       "4  SanDisk Ultra® microSDXC™ UHS-I Card, 64GB, 14...   \n",
       "5  ASIAN F-04 Running Shoes,Gym Shoes,Training Sh...   \n",
       "\n",
       "                         url price        date         time  \\\n",
       "0  https://amzn.eu/d/hsiQlXL   999  08-01-2023  06:42:57 PM   \n",
       "1  https://amzn.eu/d/gr6z2y8  1299  08-01-2023  06:42:56 PM   \n",
       "2  https://amzn.eu/d/hB6YGx6  1999  08-01-2023  06:42:56 PM   \n",
       "3  https://amzn.eu/d/c6B3QjO  2299  08-01-2023  06:42:57 PM   \n",
       "4  https://amzn.eu/d/efLqs1d   612  08-01-2023  06:42:56 PM   \n",
       "5  https://amzn.eu/d/ioDYTiC   524  08-01-2023  06:42:57 PM   \n",
       "\n",
       "               rating  \n",
       "0  4.0 out of 5 stars  \n",
       "1  4.3 out of 5 stars  \n",
       "2  3.8 out of 5 stars  \n",
       "3  4.2 out of 5 stars  \n",
       "4  4.4 out of 5 stars  \n",
       "5  4.0 out of 5 stars  "
      ]
     },
     "execution_count": 5,
     "metadata": {},
     "output_type": "execute_result"
    }
   ],
   "source": [
    "tracker.csv_data"
   ]
  },
  {
   "cell_type": "code",
   "execution_count": 6,
   "metadata": {},
   "outputs": [
    {
     "data": {
      "text/plain": [
       "'deleted specified data'"
      ]
     },
     "execution_count": 6,
     "metadata": {},
     "output_type": "execute_result"
    }
   ],
   "source": [
    "tracker.delete_product(urls=['https://amzn.eu/d/efLqs1d'])"
   ]
  },
  {
   "cell_type": "code",
   "execution_count": 7,
   "metadata": {},
   "outputs": [
    {
     "data": {
      "text/plain": [
       "'All data up-to-date'"
      ]
     },
     "execution_count": 7,
     "metadata": {},
     "output_type": "execute_result"
    }
   ],
   "source": [
    "tracker.update_all()"
   ]
  },
  {
   "cell_type": "code",
   "execution_count": 8,
   "metadata": {},
   "outputs": [],
   "source": [
    "# tracker.delete_all()"
   ]
  },
  {
   "cell_type": "code",
   "execution_count": 9,
   "metadata": {},
   "outputs": [
    {
     "data": {
      "text/plain": [
       "0    https://amzn.eu/d/hsiQlXL\n",
       "1    https://amzn.eu/d/gr6z2y8\n",
       "2    https://amzn.eu/d/hB6YGx6\n",
       "3    https://amzn.eu/d/c6B3QjO\n",
       "4    https://amzn.eu/d/ioDYTiC\n",
       "Name: url, dtype: object"
      ]
     },
     "execution_count": 9,
     "metadata": {},
     "output_type": "execute_result"
    }
   ],
   "source": [
    "tracker.csv_data['url']"
   ]
  }
 ],
 "metadata": {
  "kernelspec": {
   "display_name": "Python 3",
   "language": "python",
   "name": "python3"
  },
  "language_info": {
   "codemirror_mode": {
    "name": "ipython",
    "version": 3
   },
   "file_extension": ".py",
   "mimetype": "text/x-python",
   "name": "python",
   "nbconvert_exporter": "python",
   "pygments_lexer": "ipython3",
   "version": "3.11.1"
  },
  "orig_nbformat": 4,
  "vscode": {
   "interpreter": {
    "hash": "d8665922fe2c6bac621031e91cd8d585272a10c7e658b11cccf5396e3a7fae2c"
   }
  }
 },
 "nbformat": 4,
 "nbformat_minor": 2
}
